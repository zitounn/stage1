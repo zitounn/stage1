{
 "cells": [
  {
   "cell_type": "code",
   "execution_count": 19,
   "metadata": {
    "collapsed": false,
    "scrolled": true
   },
   "outputs": [
    {
     "name": "stderr",
     "output_type": "stream",
     "text": [
      "2018-05-16 11:37:18,598 Layers 3, features 4, filter size 3x3, pool size: 2x2\n"
     ]
    },
    {
     "name": "stdout",
     "output_type": "stream",
     "text": [
      "[name: \"/device:CPU:0\"\n",
      "device_type: \"CPU\"\n",
      "memory_limit: 268435456\n",
      "locality {\n",
      "}\n",
      "incarnation: 5816070582958964501\n",
      ", name: \"/device:GPU:0\"\n",
      "device_type: \"GPU\"\n",
      "memory_limit: 6293720269\n",
      "locality {\n",
      "  bus_id: 1\n",
      "  links {\n",
      "  }\n",
      "}\n",
      "incarnation: 12113431599162531742\n",
      "physical_device_desc: \"device: 0, name: GeForce GTX 1080, pci bus id: 0000:02:00.0, compute capability: 6.1\"\n",
      "]\n"
     ]
    }
   ],
   "source": [
    "from __future__ import division, print_function\n",
    "%matplotlib inline\n",
    "import matplotlib.pyplot as plt\n",
    "import matplotlib\n",
    "import numpy as np\n",
    "plt.rcParams['image.cmap'] = 'gist_earth'\n",
    "import os\n",
    "os.environ[\"CUDA_DEVICE_ORDER\"]=\"PCI_BUS_ID\"   # see issue #152\n",
    "os.environ[\"CUDA_VISIBLE_DEVICES\"]=\"0\"\n",
    "from tf_unet import image_gen\n",
    "from tf_unet import unet\n",
    "from tf_unet import util, image_util\n",
    "from PIL import Image\n",
    "from tensorflow.python.client import device_lib\n",
    "print (device_lib.list_local_devices())\n",
    "\n",
    "\n",
    "data_provider = image_util.NoduleDataProvider('tifdata/*.tif', 'validation_set/*.tif', \n",
    "                                              n_class=2, downsample = 0.5)\n",
    "\n",
    "net = unet.Unet(layers=3, features_root=4, channels=1, n_class=2, gpu_ratio=1, cost = \"dice_coefficient\")"
   ]
  },
  {
   "cell_type": "code",
   "execution_count": 20,
   "metadata": {
    "collapsed": false,
    "scrolled": true
   },
   "outputs": [
    {
     "name": "stderr",
     "output_type": "stream",
     "text": [
      "2018-05-16 11:37:20,410 Removing '/home/msekni/day2/stage1/prediction'\n",
      "2018-05-16 11:37:20,413 Removing '/home/msekni/day2/stage1/output_data'\n",
      "2018-05-16 11:37:20,414 Allocating '/home/msekni/day2/stage1/prediction'\n",
      "2018-05-16 11:37:20,414 Allocating '/home/msekni/day2/stage1/output_data'\n"
     ]
    },
    {
     "name": "stdout",
     "output_type": "stream",
     "text": [
      "(34, 512, 512, 1)\n"
     ]
    },
    {
     "name": "stderr",
     "output_type": "stream",
     "text": [
      "2018-05-16 11:37:22,098 Verification error= 99.8%, loss= -0.6187\n",
      "2018-05-16 11:37:24,150 Start optimization\n",
      "2018-05-16 11:37:25,151 Iter 0, Minibatch Loss= -0.6132, Training Accuracy= 0.9988, Minibatch error= 0.1%\n",
      "2018-05-16 11:37:25,530 Iter 1, Minibatch Loss= -0.7010, Training Accuracy= 0.9981, Minibatch error= 0.2%\n",
      "2018-05-16 11:37:25,901 Iter 2, Minibatch Loss= -0.8087, Training Accuracy= 0.9986, Minibatch error= 0.1%\n",
      "2018-05-16 11:37:26,245 Iter 3, Minibatch Loss= -0.7692, Training Accuracy= 0.9962, Minibatch error= 0.4%\n",
      "2018-05-16 11:37:26,531 Iter 4, Minibatch Loss= -0.5469, Training Accuracy= 0.9994, Minibatch error= 0.1%\n",
      "2018-05-16 11:37:26,532 Epoch 0, Average loss: nan, learning rate: 0.2000\n",
      "2018-05-16 11:37:27,255 Verification error= 0.2%, loss= -0.6230\n",
      "/home/msekni/day2/stage1/tf_unet/util.py:74: RuntimeWarning: invalid value encountered in true_divide\n",
      "  img /= np.amax(img)\n",
      "2018-05-16 11:37:29,598 Iter 5, Minibatch Loss= -0.6403, Training Accuracy= 0.9976, Minibatch error= 0.2%\n",
      "2018-05-16 11:37:29,909 Iter 6, Minibatch Loss= -0.6309, Training Accuracy= 0.9977, Minibatch error= 0.2%\n",
      "2018-05-16 11:37:30,258 Iter 7, Minibatch Loss= -0.5996, Training Accuracy= 0.9983, Minibatch error= 0.2%\n",
      "2018-05-16 11:37:30,580 Iter 8, Minibatch Loss= -0.6559, Training Accuracy= 0.9971, Minibatch error= 0.3%\n",
      "2018-05-16 11:37:30,886 Iter 9, Minibatch Loss= -0.6129, Training Accuracy= 0.9981, Minibatch error= 0.2%\n",
      "2018-05-16 11:37:30,886 Epoch 1, Average loss: -0.6279, learning rate: 0.1900\n",
      "2018-05-16 11:37:31,554 Verification error= 0.2%, loss= -0.6230\n",
      "2018-05-16 11:37:33,953 Iter 10, Minibatch Loss= -0.5814, Training Accuracy= 0.9988, Minibatch error= 0.1%\n",
      "2018-05-16 11:37:34,313 Iter 11, Minibatch Loss= -0.5564, Training Accuracy= 0.9992, Minibatch error= 0.1%\n",
      "2018-05-16 11:37:34,668 Iter 12, Minibatch Loss= -0.6134, Training Accuracy= 0.9981, Minibatch error= 0.2%\n",
      "2018-05-16 11:37:35,062 Iter 13, Minibatch Loss= -0.5814, Training Accuracy= 0.9989, Minibatch error= 0.1%\n",
      "2018-05-16 11:37:35,369 Iter 14, Minibatch Loss= -0.6457, Training Accuracy= 0.9974, Minibatch error= 0.3%\n",
      "2018-05-16 11:37:35,369 Epoch 2, Average loss: -0.5956, learning rate: 0.1805\n",
      "2018-05-16 11:37:36,051 Verification error= 0.2%, loss= -0.6230\n",
      "2018-05-16 11:37:38,351 Iter 15, Minibatch Loss= -0.6310, Training Accuracy= 0.9978, Minibatch error= 0.2%\n",
      "2018-05-16 11:37:38,627 Iter 16, Minibatch Loss= -0.6662, Training Accuracy= 0.9967, Minibatch error= 0.3%\n",
      "2018-05-16 11:37:38,921 Iter 17, Minibatch Loss= -0.7226, Training Accuracy= 0.9947, Minibatch error= 0.5%\n",
      "2018-05-16 11:37:39,237 Iter 18, Minibatch Loss= -0.6104, Training Accuracy= 0.9982, Minibatch error= 0.2%\n",
      "2018-05-16 11:37:39,579 Iter 19, Minibatch Loss= -0.5177, Training Accuracy= 0.9998, Minibatch error= 0.0%\n",
      "2018-05-16 11:37:39,580 Epoch 3, Average loss: -0.6296, learning rate: 0.1715\n",
      "2018-05-16 11:37:40,310 Verification error= 0.2%, loss= -0.6230\n",
      "2018-05-16 11:37:42,647 Iter 20, Minibatch Loss= -0.5573, Training Accuracy= 0.9993, Minibatch error= 0.1%\n",
      "2018-05-16 11:37:42,952 Iter 21, Minibatch Loss= -0.6347, Training Accuracy= 0.9976, Minibatch error= 0.2%\n",
      "2018-05-16 11:37:43,254 Iter 22, Minibatch Loss= -0.5929, Training Accuracy= 0.9986, Minibatch error= 0.1%\n",
      "2018-05-16 11:37:43,551 Iter 23, Minibatch Loss= -0.5696, Training Accuracy= 0.9990, Minibatch error= 0.1%\n",
      "2018-05-16 11:37:43,883 Iter 24, Minibatch Loss= -0.5396, Training Accuracy= 0.9995, Minibatch error= 0.1%\n",
      "2018-05-16 11:37:43,884 Epoch 4, Average loss: -0.5788, learning rate: 0.1629\n",
      "2018-05-16 11:37:44,593 Verification error= 0.2%, loss= -0.6230\n",
      "2018-05-16 11:37:46,941 Iter 25, Minibatch Loss= -0.5582, Training Accuracy= 0.9993, Minibatch error= 0.1%\n",
      "2018-05-16 11:37:47,270 Iter 26, Minibatch Loss= -0.5555, Training Accuracy= 0.9992, Minibatch error= 0.1%\n",
      "2018-05-16 11:37:47,568 Iter 27, Minibatch Loss= -0.6058, Training Accuracy= 0.9984, Minibatch error= 0.2%\n",
      "2018-05-16 11:37:47,870 Iter 28, Minibatch Loss= -0.6004, Training Accuracy= 0.9984, Minibatch error= 0.2%\n",
      "2018-05-16 11:37:48,171 Iter 29, Minibatch Loss= -0.5686, Training Accuracy= 0.9990, Minibatch error= 0.1%\n",
      "2018-05-16 11:37:48,172 Epoch 5, Average loss: -0.5777, learning rate: 0.1548\n",
      "2018-05-16 11:37:48,806 Verification error= 0.2%, loss= -0.6230\n",
      "2018-05-16 11:37:51,132 Iter 30, Minibatch Loss= -0.5550, Training Accuracy= 0.9993, Minibatch error= 0.1%\n",
      "2018-05-16 11:37:51,443 Iter 31, Minibatch Loss= -0.5608, Training Accuracy= 0.9992, Minibatch error= 0.1%\n",
      "2018-05-16 11:37:51,771 Iter 32, Minibatch Loss= -0.5471, Training Accuracy= 0.9993, Minibatch error= 0.1%\n",
      "2018-05-16 11:37:52,109 Iter 33, Minibatch Loss= -0.5786, Training Accuracy= 0.9990, Minibatch error= 0.1%\n",
      "2018-05-16 11:37:52,396 Iter 34, Minibatch Loss= -0.5731, Training Accuracy= 0.9990, Minibatch error= 0.1%\n",
      "2018-05-16 11:37:52,397 Epoch 6, Average loss: -0.5629, learning rate: 0.1470\n",
      "2018-05-16 11:37:53,067 Verification error= 0.2%, loss= -0.6230\n",
      "2018-05-16 11:37:55,563 Iter 35, Minibatch Loss= -0.6791, Training Accuracy= 0.9964, Minibatch error= 0.4%\n",
      "2018-05-16 11:37:55,879 Iter 36, Minibatch Loss= -0.5824, Training Accuracy= 0.9988, Minibatch error= 0.1%\n",
      "2018-05-16 11:37:56,225 Iter 37, Minibatch Loss= -0.5338, Training Accuracy= 0.9996, Minibatch error= 0.0%\n",
      "2018-05-16 11:37:56,553 Iter 38, Minibatch Loss= -0.5336, Training Accuracy= 0.9996, Minibatch error= 0.0%\n",
      "2018-05-16 11:37:56,883 Iter 39, Minibatch Loss= -0.5928, Training Accuracy= 0.9987, Minibatch error= 0.1%\n",
      "2018-05-16 11:37:56,884 Epoch 7, Average loss: -0.5843, learning rate: 0.1397\n",
      "2018-05-16 11:37:57,526 Verification error= 0.2%, loss= -0.6230\n",
      "2018-05-16 11:37:59,832 Iter 40, Minibatch Loss= -0.6320, Training Accuracy= 0.9978, Minibatch error= 0.2%\n",
      "2018-05-16 11:38:00,151 Iter 41, Minibatch Loss= -0.7447, Training Accuracy= 0.9932, Minibatch error= 0.7%\n",
      "2018-05-16 11:38:00,455 Iter 42, Minibatch Loss= -0.5917, Training Accuracy= 0.9986, Minibatch error= 0.1%\n",
      "2018-05-16 11:38:00,758 Iter 43, Minibatch Loss= -0.6209, Training Accuracy= 0.9981, Minibatch error= 0.2%\n",
      "2018-05-16 11:38:01,084 Iter 44, Minibatch Loss= -0.5591, Training Accuracy= 0.9992, Minibatch error= 0.1%\n",
      "2018-05-16 11:38:01,085 Epoch 8, Average loss: -0.6297, learning rate: 0.1327\n",
      "2018-05-16 11:38:01,747 Verification error= 0.2%, loss= -0.6230\n",
      "2018-05-16 11:38:04,163 Iter 45, Minibatch Loss= -0.6775, Training Accuracy= 0.9964, Minibatch error= 0.4%\n",
      "2018-05-16 11:38:04,493 Iter 46, Minibatch Loss= -0.5612, Training Accuracy= 0.9992, Minibatch error= 0.1%\n",
      "2018-05-16 11:38:04,779 Iter 47, Minibatch Loss= -0.6411, Training Accuracy= 0.9976, Minibatch error= 0.2%\n",
      "2018-05-16 11:38:05,096 Iter 48, Minibatch Loss= -0.6756, Training Accuracy= 0.9965, Minibatch error= 0.3%\n",
      "2018-05-16 11:38:05,365 Iter 49, Minibatch Loss= -0.6035, Training Accuracy= 0.9985, Minibatch error= 0.2%\n",
      "2018-05-16 11:38:05,366 Epoch 9, Average loss: -0.6318, learning rate: 0.1260\n",
      "2018-05-16 11:38:06,030 Verification error= 0.2%, loss= -0.6230\n",
      "2018-05-16 11:38:08,220 Optimization Finished!\n"
     ]
    }
   ],
   "source": [
    "trainer = unet.Trainer(net, batch_size=4, gpu_ratio=1)\n",
    "path = trainer.train(data_provider, 'output_data', training_iters=5, epochs=10)"
   ]
  },
  {
   "cell_type": "code",
   "execution_count": null,
   "metadata": {
    "collapsed": true
   },
   "outputs": [],
   "source": []
  },
  {
   "cell_type": "code",
   "execution_count": null,
   "metadata": {
    "collapsed": true
   },
   "outputs": [],
   "source": []
  },
  {
   "cell_type": "code",
   "execution_count": null,
   "metadata": {
    "collapsed": true
   },
   "outputs": [],
   "source": []
  },
  {
   "cell_type": "code",
   "execution_count": null,
   "metadata": {
    "collapsed": true
   },
   "outputs": [],
   "source": [
    "n_points = 4\n",
    "data, label = data_provider(n_points)\n",
    "\n",
    "data.shape\n",
    "\n",
    "n_points = 4\n",
    "data, label = data_provider(n_points, verification = False)\n",
    "\n",
    "data.shape\n",
    "\n",
    "\n",
    "fig, ax = plt.subplots(1,2, sharey=True, figsize=(8,4))\n",
    "ax[0].imshow(data[0,...,0], aspect=\"auto\")\n",
    "ax[1].imshow(label[0,:,:,1], aspect=\"auto\")\n",
    "\n",
    "label.shape\n"
   ]
  },
  {
   "cell_type": "code",
   "execution_count": null,
   "metadata": {
    "collapsed": true
   },
   "outputs": [],
   "source": []
  },
  {
   "cell_type": "code",
   "execution_count": 39,
   "metadata": {
    "collapsed": false
   },
   "outputs": [],
   "source": [
    "import numpy as np\n",
    "\n",
    "\n",
    "\n",
    "a = np.asarray([[3,3,3],[4,5,6], [7,8,9] ])\n",
    "np.savetxt(\"foo.csv\", a, delimiter=\",\")\n"
   ]
  },
  {
   "cell_type": "code",
   "execution_count": 4,
   "metadata": {
    "collapsed": true
   },
   "outputs": [],
   "source": [
    "from numpy import genfromtxt\n",
    "my_data = genfromtxt('validation_loss.csv', delimiter=',')"
   ]
  },
  {
   "cell_type": "code",
   "execution_count": 5,
   "metadata": {
    "collapsed": false
   },
   "outputs": [
    {
     "data": {
      "text/plain": [
       "array([[1., 2., 3.],\n",
       "       [4., 5., 6.],\n",
       "       [7., 8., 9.]])"
      ]
     },
     "execution_count": 5,
     "metadata": {},
     "output_type": "execute_result"
    }
   ],
   "source": [
    "my_data"
   ]
  },
  {
   "cell_type": "code",
   "execution_count": 23,
   "metadata": {
    "collapsed": false
   },
   "outputs": [
    {
     "data": {
      "text/plain": [
       "array([[1, 2, 3],\n",
       "       [3, 4, 5]])"
      ]
     },
     "execution_count": 23,
     "metadata": {},
     "output_type": "execute_result"
    }
   ],
   "source": [
    "a = np.array([[1,2,3],[3,4,5]])\n",
    "a"
   ]
  },
  {
   "cell_type": "code",
   "execution_count": 24,
   "metadata": {
    "collapsed": false
   },
   "outputs": [
    {
     "data": {
      "text/plain": [
       "array([[1, 2, 3],\n",
       "       [3, 4, 5],\n",
       "       [7, 2, 3]])"
      ]
     },
     "execution_count": 24,
     "metadata": {},
     "output_type": "execute_result"
    }
   ],
   "source": [
    "newrow = [7,2,3]\n",
    "a = np.vstack([a, newrow])\n",
    "a"
   ]
  },
  {
   "cell_type": "code",
   "execution_count": 32,
   "metadata": {
    "collapsed": false
   },
   "outputs": [
    {
     "name": "stdout",
     "output_type": "stream",
     "text": [
      "123\n"
     ]
    }
   ],
   "source": [
    "import os\n",
    "if os.path.isfile('foo.csv') :\n",
    "    print(123)"
   ]
  },
  {
   "cell_type": "code",
   "execution_count": 36,
   "metadata": {
    "collapsed": true
   },
   "outputs": [],
   "source": [
    "a = np.array((3,1))"
   ]
  },
  {
   "cell_type": "code",
   "execution_count": 37,
   "metadata": {
    "collapsed": false
   },
   "outputs": [
    {
     "data": {
      "text/plain": [
       "array([3, 1])"
      ]
     },
     "execution_count": 37,
     "metadata": {},
     "output_type": "execute_result"
    }
   ],
   "source": [
    "a"
   ]
  },
  {
   "cell_type": "code",
   "execution_count": 35,
   "metadata": {
    "collapsed": false
   },
   "outputs": [
    {
     "ename": "ValueError",
     "evalue": "all the input array dimensions except for the concatenation axis must match exactly",
     "output_type": "error",
     "traceback": [
      "\u001b[0;31m---------------------------------------------------------------------------\u001b[0m",
      "\u001b[0;31mValueError\u001b[0m                                Traceback (most recent call last)",
      "\u001b[0;32m<ipython-input-35-88db2a7c5152>\u001b[0m in \u001b[0;36m<module>\u001b[0;34m()\u001b[0m\n\u001b[1;32m      1\u001b[0m \u001b[0mnewrow\u001b[0m \u001b[0;34m=\u001b[0m \u001b[0;34m[\u001b[0m\u001b[0;36m7\u001b[0m\u001b[0;34m,\u001b[0m\u001b[0;36m2\u001b[0m\u001b[0;34m,\u001b[0m\u001b[0;36m3\u001b[0m\u001b[0;34m]\u001b[0m\u001b[0;34m\u001b[0m\u001b[0m\n\u001b[0;32m----> 2\u001b[0;31m \u001b[0ma\u001b[0m \u001b[0;34m=\u001b[0m \u001b[0mnp\u001b[0m\u001b[0;34m.\u001b[0m\u001b[0mvstack\u001b[0m\u001b[0;34m(\u001b[0m\u001b[0;34m[\u001b[0m\u001b[0ma\u001b[0m\u001b[0;34m,\u001b[0m \u001b[0mnewrow\u001b[0m\u001b[0;34m]\u001b[0m\u001b[0;34m)\u001b[0m\u001b[0;34m\u001b[0m\u001b[0m\n\u001b[0m",
      "\u001b[0;32m/Applications/anaconda/envs/mlpy3/lib/python3.5/site-packages/numpy/core/shape_base.py\u001b[0m in \u001b[0;36mvstack\u001b[0;34m(tup)\u001b[0m\n\u001b[1;32m    232\u001b[0m \u001b[0;34m\u001b[0m\u001b[0m\n\u001b[1;32m    233\u001b[0m     \"\"\"\n\u001b[0;32m--> 234\u001b[0;31m     \u001b[0;32mreturn\u001b[0m \u001b[0m_nx\u001b[0m\u001b[0;34m.\u001b[0m\u001b[0mconcatenate\u001b[0m\u001b[0;34m(\u001b[0m\u001b[0;34m[\u001b[0m\u001b[0matleast_2d\u001b[0m\u001b[0;34m(\u001b[0m\u001b[0m_m\u001b[0m\u001b[0;34m)\u001b[0m \u001b[0;32mfor\u001b[0m \u001b[0m_m\u001b[0m \u001b[0;32min\u001b[0m \u001b[0mtup\u001b[0m\u001b[0;34m]\u001b[0m\u001b[0;34m,\u001b[0m \u001b[0;36m0\u001b[0m\u001b[0;34m)\u001b[0m\u001b[0;34m\u001b[0m\u001b[0m\n\u001b[0m\u001b[1;32m    235\u001b[0m \u001b[0;34m\u001b[0m\u001b[0m\n\u001b[1;32m    236\u001b[0m \u001b[0;32mdef\u001b[0m \u001b[0mhstack\u001b[0m\u001b[0;34m(\u001b[0m\u001b[0mtup\u001b[0m\u001b[0;34m)\u001b[0m\u001b[0;34m:\u001b[0m\u001b[0;34m\u001b[0m\u001b[0m\n",
      "\u001b[0;31mValueError\u001b[0m: all the input array dimensions except for the concatenation axis must match exactly"
     ]
    }
   ],
   "source": [
    "newrow = [7,2,3]\n",
    "a = np.vstack([a, newrow])"
   ]
  },
  {
   "cell_type": "code",
   "execution_count": 2,
   "metadata": {
    "collapsed": true
   },
   "outputs": [],
   "source": [
    "import numpy as np"
   ]
  },
  {
   "cell_type": "code",
   "execution_count": 5,
   "metadata": {
    "collapsed": false,
    "scrolled": true
   },
   "outputs": [],
   "source": [
    "b = np.zeros((3,3,1))"
   ]
  },
  {
   "cell_type": "code",
   "execution_count": 12,
   "metadata": {
    "collapsed": false
   },
   "outputs": [],
   "source": [
    "a = np.ones((3,3,2))"
   ]
  },
  {
   "cell_type": "code",
   "execution_count": 13,
   "metadata": {
    "collapsed": false
   },
   "outputs": [],
   "source": [
    "c = np.concatenate((a,b), axis = -1)"
   ]
  },
  {
   "cell_type": "code",
   "execution_count": 14,
   "metadata": {
    "collapsed": false
   },
   "outputs": [
    {
     "data": {
      "text/plain": [
       "(3, 3, 3)"
      ]
     },
     "execution_count": 14,
     "metadata": {},
     "output_type": "execute_result"
    }
   ],
   "source": [
    "c.shape\n"
   ]
  },
  {
   "cell_type": "code",
   "execution_count": 36,
   "metadata": {
    "collapsed": false
   },
   "outputs": [],
   "source": [
    "d=c[:,:,2]"
   ]
  },
  {
   "cell_type": "code",
   "execution_count": 38,
   "metadata": {
    "collapsed": false
   },
   "outputs": [
    {
     "data": {
      "text/plain": [
       "(3, 3)"
      ]
     },
     "execution_count": 38,
     "metadata": {},
     "output_type": "execute_result"
    }
   ],
   "source": [
    "d.shape"
   ]
  },
  {
   "cell_type": "code",
   "execution_count": null,
   "metadata": {
    "collapsed": true
   },
   "outputs": [],
   "source": []
  }
 ],
 "metadata": {
  "kernelspec": {
   "display_name": "mlpy3",
   "language": "python",
   "name": "mlpy3"
  },
  "language_info": {
   "codemirror_mode": {
    "name": "ipython",
    "version": 3
   },
   "file_extension": ".py",
   "mimetype": "text/x-python",
   "name": "python",
   "nbconvert_exporter": "python",
   "pygments_lexer": "ipython3",
   "version": "3.5.2"
  }
 },
 "nbformat": 4,
 "nbformat_minor": 1
}
